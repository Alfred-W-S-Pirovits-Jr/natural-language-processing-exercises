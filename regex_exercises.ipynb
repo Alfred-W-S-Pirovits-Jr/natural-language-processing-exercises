{
 "cells": [
  {
   "cell_type": "code",
   "execution_count": 1,
   "id": "649781e5",
   "metadata": {},
   "outputs": [],
   "source": [
    "import re\n",
    "import os\n",
    "import pandas as pd"
   ]
  },
  {
   "cell_type": "code",
   "execution_count": null,
   "id": "bd65c932",
   "metadata": {},
   "outputs": [],
   "source": []
  },
  {
   "cell_type": "code",
   "execution_count": null,
   "id": "eeeef463",
   "metadata": {},
   "outputs": [],
   "source": []
  },
  {
   "cell_type": "markdown",
   "id": "620943ed",
   "metadata": {},
   "source": [
    "Write a function named is_vowel. It should accept a string as input and use a regular expression to determine if the passed string is a vowel. While not explicity mentioned in the lesson, you can treat the result of re.search as a boolean value that indicates whether or not the regular expression matches the given string."
   ]
  },
  {
   "cell_type": "code",
   "execution_count": 2,
   "id": "0feefc6b",
   "metadata": {},
   "outputs": [
    {
     "data": {
      "text/plain": [
       "True"
      ]
     },
     "execution_count": 2,
     "metadata": {},
     "output_type": "execute_result"
    }
   ],
   "source": [
    "string = 'a'\n",
    "def is_vowel(string):\n",
    "    regexp = r'[aeiouAEIOU]'\n",
    "#     return re.search(regexp, string)\n",
    "    match = re.search(regexp, string)\n",
    "    #return match  #keep this line for understanding\n",
    "    return match != None and match[0] == string\n",
    "\n",
    "vowel = is_vowel(string)\n",
    "vowel"
   ]
  },
  {
   "cell_type": "code",
   "execution_count": null,
   "id": "2382bdae",
   "metadata": {},
   "outputs": [],
   "source": []
  },
  {
   "cell_type": "markdown",
   "id": "15446ea7",
   "metadata": {},
   "source": [
    "Write a function named is_valid_username that accepts a string as input. A valid username starts with a lowercase letter, and only consists of lowercase letters, numbers, or the _ character. It should also be no longer than 32 characters. The function should return either True or False depending on whether the passed string is a valid username."
   ]
  },
  {
   "cell_type": "code",
   "execution_count": 3,
   "id": "2b17b435",
   "metadata": {},
   "outputs": [
    {
     "data": {
      "text/plain": [
       "True"
      ]
     },
     "execution_count": 3,
     "metadata": {},
     "output_type": "execute_result"
    }
   ],
   "source": [
    "username = 'i93_4kj498rfhdschjfknkdjhdskj485'\n",
    "def is_valid_username(username):\n",
    "    regexp  = r'^[a-z][_0123456789abcdefghijklmnopqrstuvwxyz]{1,31}'#r'^[a-z][_ | \\d | \\w]{1,31}'  #### HOW TO COMBINE r'([^A-Z]{1,32})' \n",
    "    match = re.search(regexp, username)\n",
    "    return match != None and match[0] == username\n",
    "\n",
    "username = is_valid_username(username)\n",
    "username"
   ]
  },
  {
   "cell_type": "markdown",
   "id": "092975c4",
   "metadata": {},
   "source": [
    "cannot figure out the [a-z] or [^A-Z] syntax"
   ]
  },
  {
   "cell_type": "code",
   "execution_count": null,
   "id": "9075582e",
   "metadata": {},
   "outputs": [],
   "source": []
  },
  {
   "cell_type": "markdown",
   "id": "c0e6bb56",
   "metadata": {},
   "source": [
    "Write a regular expression to capture phone numbers. It should match all of the following:"
   ]
  },
  {
   "cell_type": "markdown",
   "id": "b7a9cfde",
   "metadata": {},
   "source": [
    "* (210) 867 5309\n",
    "* +1 210.867.5309\n",
    "* 867-5309\n",
    "* 210-867-5309\n"
   ]
  },
  {
   "cell_type": "code",
   "execution_count": 4,
   "id": "52cc3bb7",
   "metadata": {},
   "outputs": [
    {
     "data": {
      "text/plain": [
       "True"
      ]
     },
     "execution_count": 4,
     "metadata": {},
     "output_type": "execute_result"
    }
   ],
   "source": [
    "potential_number = '(210) 867 5309'\n",
    "def phone_number(potential_number):\n",
    "    regexp = r'\\(\\d{3}\\)\\s\\d{3}\\s\\d{4}'\n",
    "    match = re.search(regexp, potential_number)\n",
    "    return match != None and match[0] == potential_number\n",
    "phone = phone_number(potential_number)\n",
    "phone"
   ]
  },
  {
   "cell_type": "code",
   "execution_count": 5,
   "id": "edac227f",
   "metadata": {},
   "outputs": [
    {
     "data": {
      "text/plain": [
       "True"
      ]
     },
     "execution_count": 5,
     "metadata": {},
     "output_type": "execute_result"
    }
   ],
   "source": [
    "potential_number = '+1 210.867.5309'\n",
    "def phone_number(potential_number):\n",
    "    regexp = r'\\+1\\s\\d{3}\\.\\d{3}\\.\\d{4}'\n",
    "    match = re.search(regexp, potential_number)\n",
    "    return match != None and match[0] == potential_number\n",
    "phone = phone_number(potential_number)\n",
    "phone"
   ]
  },
  {
   "cell_type": "code",
   "execution_count": 6,
   "id": "48c44604",
   "metadata": {},
   "outputs": [
    {
     "data": {
      "text/plain": [
       "True"
      ]
     },
     "execution_count": 6,
     "metadata": {},
     "output_type": "execute_result"
    }
   ],
   "source": [
    "potential_number = '867-5309'\n",
    "def phone_number(potential_number):\n",
    "    regexp = r'\\d{3}-\\d{4}'\n",
    "    match = re.search(regexp, potential_number)\n",
    "    return match != None and match[0] == potential_number\n",
    "phone = phone_number(potential_number)\n",
    "phone"
   ]
  },
  {
   "cell_type": "code",
   "execution_count": 7,
   "id": "bfb68d1c",
   "metadata": {},
   "outputs": [
    {
     "data": {
      "text/plain": [
       "True"
      ]
     },
     "execution_count": 7,
     "metadata": {},
     "output_type": "execute_result"
    }
   ],
   "source": [
    "potential_number = '210-867-5309'\n",
    "def phone_number(potential_number):\n",
    "    regexp = r'\\d{3}-\\d{3}-\\d{4}'\n",
    "    match = re.search(regexp, potential_number)\n",
    "    return match != None and match[0] == potential_number\n",
    "phone = phone_number(potential_number)\n",
    "phone"
   ]
  },
  {
   "cell_type": "markdown",
   "id": "b5b6bb49",
   "metadata": {},
   "source": [
    "## Combine"
   ]
  },
  {
   "cell_type": "code",
   "execution_count": 15,
   "id": "a1697063",
   "metadata": {},
   "outputs": [
    {
     "data": {
      "text/plain": [
       "['210-867-5309', '867-5309', '+1 210.867.5309', '(210) 867 5309']"
      ]
     },
     "execution_count": 15,
     "metadata": {},
     "output_type": "execute_result"
    }
   ],
   "source": [
    "string = '210-867-5309,867-5309ldksfghaviu hcg+1 210.867.5309(210) 867 5309'\n",
    "\n",
    "def capture_list(string):\n",
    "    for _ in string:\n",
    "        regexp = r'(\\(\\d{3}\\)\\s\\d{3}\\s\\d{4}|\\+1\\s\\d{3}\\.\\d{3}\\.\\d{4}|\\d{3}-\\d{4}|\\d{3}-\\d{3}-\\d{4})'\n",
    "        match = re.findall(regexp, string)\n",
    "        return match\n",
    "\n",
    "list = capture_list(string)\n",
    "list"
   ]
  },
  {
   "cell_type": "markdown",
   "id": "900dc8ee",
   "metadata": {},
   "source": [
    "##### >>> is_valid_username('aaaaaaaaaaaaaaaaaaaaaaaaaaaaaaaaa')\n",
    "##### False\n",
    "##### >>> is_valid_username('codeup')\n",
    "##### True\n",
    "##### >>> is_valid_username('Codeup')\n",
    "##### False\n",
    "##### >>> is_valid_username('codeup123')\n",
    "##### True\n",
    "##### >>> is_valid_username('1codeup')\n",
    "##### False\n"
   ]
  },
  {
   "cell_type": "markdown",
   "id": "6d7dc8f7",
   "metadata": {},
   "source": [
    "Use regular expressions to convert the dates below to the standardized year-month-day format."
   ]
  },
  {
   "cell_type": "markdown",
   "id": "b0810fda",
   "metadata": {},
   "source": [
    "* 02/04/19\n",
    "* 02/05/19\n",
    "* 02/06/19\n",
    "* 02/07/19\n",
    "* 02/08/19\n",
    "* 02/09/19\n",
    "* 02/10/19\n"
   ]
  },
  {
   "cell_type": "code",
   "execution_count": 299,
   "id": "c715ad43",
   "metadata": {},
   "outputs": [
    {
     "data": {
      "text/plain": [
       "'2019-02-04'"
      ]
     },
     "execution_count": 299,
     "metadata": {},
     "output_type": "execute_result"
    }
   ],
   "source": [
    "date = '02/04/19'\n",
    "def convert_date_format(date):\n",
    "    new_date = ''\n",
    "    regexp = r'\\d{2}/\\d{2}/\\d{2}'\n",
    "    match = re.search(regexp, date)\n",
    "    return f'20{match[0][-2:]}-{match[0][0:2]}-{match[0][3:5]}'\n",
    "\n",
    "new_date = convert_date_format(date)\n",
    "new_date"
   ]
  },
  {
   "cell_type": "markdown",
   "id": "833271d9",
   "metadata": {},
   "source": [
    "Write a regex to extract the various parts of these logfile lines:"
   ]
  },
  {
   "cell_type": "markdown",
   "id": "845ff7a0",
   "metadata": {},
   "source": [
    "* GET /api/v1/sales?page=86 [16/Apr/2019:193452+0000] HTTP/1.1 {200} 510348 \"python-requests/2.21.0\" 97.105.19.58\n",
    "* POST /users_accounts/file-upload [16/Apr/2019:193452+0000] HTTP/1.1 {201} 42 \"User-Agent: Mozilla/5.0 (X11; Fedora; Fedora; Linux x86_64) AppleWebKit/537.36 (KHTML, like Gecko) Chrome/73.0.3683.86 Safari/537.36\" 97.105.19.58\n",
    "* GET /api/v1/items?page=3 [16/Apr/2019:193453+0000] HTTP/1.1 {429} 3561 \"python-requests/2.21.0\" 97.105.19.58\n"
   ]
  },
  {
   "cell_type": "code",
   "execution_count": 44,
   "id": "d89e5183",
   "metadata": {},
   "outputs": [
    {
     "data": {
      "text/plain": [
       "{'action': 'GET',\n",
       " 'page': '/api/v1/sales?page=86',\n",
       " 'date': '[16/Apr/2019:193452+0000]',\n",
       " 'whatever': 'HTTP/1.1',\n",
       " 'return_code': '{200}',\n",
       " 'number': '510348',\n",
       " 'quote': '\"python-requests/2.21.0\"',\n",
       " 'ip_address': '97.105.19.58'}"
      ]
     },
     "execution_count": 44,
     "metadata": {},
     "output_type": "execute_result"
    }
   ],
   "source": [
    "web = 'GET /api/v1/sales?page=86 [16/Apr/2019:193452+0000] HTTP/1.1 {200} 510348 \"python-requests/2.21.0\" 97.105.19.58'\n",
    "url_re = r'(?P<action>[A-Z]{3,4})\\s(?P<page>/.+)\\s(?P<date>\\[.+\\])\\s(?P<whatever>HTTP/1.1)\\s(?P<return_code>\\{\\d{3}})\\s(?P<number>\\d+)\\s(?P<quote>\".+\")\\s(?P<ip_address>\\d{2}\\.\\d{3}\\.\\d{2}\\.\\d{2})'\n",
    "\n",
    "match = re.search(url_re, web)\n",
    "match.groupdict()"
   ]
  },
  {
   "cell_type": "code",
   "execution_count": 45,
   "id": "e5f0a324",
   "metadata": {},
   "outputs": [
    {
     "data": {
      "text/plain": [
       "{'action': 'POST',\n",
       " 'page': '/users_accounts/file-upload',\n",
       " 'date': '[16/Apr/2019:193452+0000]',\n",
       " 'whatever': 'HTTP/1.1',\n",
       " 'return_code': '{201}',\n",
       " 'number': '42',\n",
       " 'quote': '\"User-Agent: Mozilla/5.0 (X11; Fedora; Fedora; Linux x86_64) AppleWebKit/537.36 (KHTML, like Gecko) Chrome/73.0.3683.86 Safari/537.36\"',\n",
       " 'ip_address': '97.105.19.58'}"
      ]
     },
     "execution_count": 45,
     "metadata": {},
     "output_type": "execute_result"
    }
   ],
   "source": [
    "web = 'POST /users_accounts/file-upload [16/Apr/2019:193452+0000] HTTP/1.1 {201} 42 \"User-Agent: Mozilla/5.0 (X11; Fedora; Fedora; Linux x86_64) AppleWebKit/537.36 (KHTML, like Gecko) Chrome/73.0.3683.86 Safari/537.36\" 97.105.19.58'\n",
    "url_re = r'(?P<action>[A-Z]{3,4})\\s(?P<page>/.+)\\s(?P<date>\\[.+\\])\\s(?P<whatever>HTTP/1.1)\\s(?P<return_code>\\{\\d{3}})\\s(?P<number>\\d+)\\s(?P<quote>\".+\")\\s(?P<ip_address>\\d{2}\\.\\d{3}\\.\\d{2}\\.\\d{2})'\n",
    "\n",
    "match = re.search(url_re, web)\n",
    "match.groupdict()"
   ]
  },
  {
   "cell_type": "code",
   "execution_count": 47,
   "id": "55e3ef2f",
   "metadata": {},
   "outputs": [
    {
     "data": {
      "text/plain": [
       "{'action': 'GET',\n",
       " 'page': '/api/v1/items?page=3',\n",
       " 'date': '[16/Apr/2019:193453+0000]',\n",
       " 'whatever': 'HTTP/1.1',\n",
       " 'return_code': '{429}',\n",
       " 'number': '3561',\n",
       " 'quote': '\"python-requests/2.21.0\"',\n",
       " 'ip_address': '97.105.19.58'}"
      ]
     },
     "execution_count": 47,
     "metadata": {},
     "output_type": "execute_result"
    }
   ],
   "source": [
    "web = 'GET /api/v1/items?page=3 [16/Apr/2019:193453+0000] HTTP/1.1 {429} 3561 \"python-requests/2.21.0\" 97.105.19.58'\n",
    "url_re = r'(?P<action>[A-Z]{3,4})\\s(?P<page>/.+)\\s(?P<date>\\[.+\\])\\s(?P<whatever>HTTP/1.1)\\s(?P<return_code>\\{\\d{3}})\\s(?P<number>\\d+)\\s(?P<quote>\".+\")\\s(?P<ip_address>\\d{2}\\.\\d{3}\\.\\d{2}\\.\\d{2})'\n",
    "\n",
    "match = re.search(url_re, web)\n",
    "match.groupdict()"
   ]
  },
  {
   "cell_type": "markdown",
   "id": "92ebdd51",
   "metadata": {},
   "source": [
    "## Bonus Exercise"
   ]
  },
  {
   "cell_type": "markdown",
   "id": "a483a643",
   "metadata": {},
   "source": [
    "You can find a list of words on your mac at /usr/share/dict/words. Use this file to answer the following questions:"
   ]
  },
  {
   "cell_type": "markdown",
   "id": "30d871af",
   "metadata": {},
   "source": [
    "- How many words have at least 3 vowels?"
   ]
  },
  {
   "cell_type": "code",
   "execution_count": 62,
   "id": "03a656ac",
   "metadata": {},
   "outputs": [],
   "source": [
    "words = pd.read_csv('/usr/share/dict/words', header=None)\n",
    "words[0][122336]\n",
    "# words = words[words != words[0][122337]]\n",
    "# words = words[words != words[0][122338]]#Remove NaN from the list\n",
    "words = words.drop(index=[122337,122338])"
   ]
  },
  {
   "cell_type": "code",
   "execution_count": 65,
   "id": "b793d6dd",
   "metadata": {},
   "outputs": [
    {
     "data": {
      "text/plain": [
       "'nammad'"
      ]
     },
     "execution_count": 65,
     "metadata": {},
     "output_type": "execute_result"
    }
   ],
   "source": [
    "words[0][122336]"
   ]
  },
  {
   "cell_type": "code",
   "execution_count": 66,
   "id": "d8a3907b",
   "metadata": {},
   "outputs": [
    {
     "data": {
      "text/plain": [
       "99154"
      ]
     },
     "execution_count": 66,
     "metadata": {},
     "output_type": "execute_result"
    }
   ],
   "source": [
    "count = 0\n",
    "for word in words[0][0:122339]:\n",
    "    regexp = r'[aeiouAEIOU]'\n",
    "    match = re.findall(regexp, word)\n",
    "    if len(match) >= 3:\n",
    "        count += 1\n",
    "    else: \n",
    "        continue\n",
    "\n",
    "count"
   ]
  },
  {
   "cell_type": "markdown",
   "id": "3a6c8a55",
   "metadata": {},
   "source": [
    "- How many words have at least 3 vowels in a row?"
   ]
  },
  {
   "cell_type": "code",
   "execution_count": 74,
   "id": "2b06edb2",
   "metadata": {},
   "outputs": [
    {
     "data": {
      "text/plain": [
       "3119"
      ]
     },
     "execution_count": 74,
     "metadata": {},
     "output_type": "execute_result"
    }
   ],
   "source": [
    "count = 0\n",
    "for word in words[0][0:122339]:\n",
    "    regexp = r'[aeiouAEIOU]{3}'\n",
    "    match = re.findall(regexp, word)\n",
    "    if len(match) == 1:\n",
    "        count += 1\n",
    "    else: \n",
    "        continue\n",
    "\n",
    "count"
   ]
  },
  {
   "cell_type": "markdown",
   "id": "a281a11f",
   "metadata": {},
   "source": [
    "- How many words have at least 4 consonants in a row?"
   ]
  },
  {
   "cell_type": "code",
   "execution_count": 75,
   "id": "45287180",
   "metadata": {},
   "outputs": [
    {
     "data": {
      "text/plain": [
       "9741"
      ]
     },
     "execution_count": 75,
     "metadata": {},
     "output_type": "execute_result"
    }
   ],
   "source": [
    "count = 0\n",
    "for word in words[0][0:122339]:\n",
    "    regexp = r'[^aeiouAEIOU]{4}'\n",
    "    match = re.findall(regexp, word)\n",
    "    if len(match) == 1:\n",
    "        count += 1\n",
    "    else: \n",
    "        continue\n",
    "\n",
    "count"
   ]
  },
  {
   "cell_type": "markdown",
   "id": "8b76ae4d",
   "metadata": {},
   "source": [
    "- How many words start and end with the same letter?"
   ]
  },
  {
   "cell_type": "code",
   "execution_count": 80,
   "id": "e3cd7d28",
   "metadata": {},
   "outputs": [
    {
     "ename": "IndexError",
     "evalue": "list index out of range",
     "output_type": "error",
     "traceback": [
      "\u001b[0;31m---------------------------------------------------------------------------\u001b[0m",
      "\u001b[0;31mIndexError\u001b[0m                                Traceback (most recent call last)",
      "Cell \u001b[0;32mIn[80], line 5\u001b[0m\n\u001b[1;32m      3\u001b[0m regexp \u001b[38;5;241m=\u001b[39m \u001b[38;5;124mr\u001b[39m\u001b[38;5;124m'\u001b[39m\u001b[38;5;124m\\\u001b[39m\u001b[38;5;124md+\u001b[39m\u001b[38;5;124m'\u001b[39m\n\u001b[1;32m      4\u001b[0m match \u001b[38;5;241m=\u001b[39m re\u001b[38;5;241m.\u001b[39mfindall(regexp, word)\n\u001b[0;32m----> 5\u001b[0m \u001b[38;5;28;01mif\u001b[39;00m \u001b[43mmatch\u001b[49m\u001b[43m[\u001b[49m\u001b[38;5;241;43m0\u001b[39;49m\u001b[43m]\u001b[49m[\u001b[38;5;241m0\u001b[39m] \u001b[38;5;241m==\u001b[39m match[\u001b[38;5;241m0\u001b[39m][\u001b[38;5;241m-\u001b[39m\u001b[38;5;241m1\u001b[39m]:\n\u001b[1;32m      6\u001b[0m     count \u001b[38;5;241m+\u001b[39m\u001b[38;5;241m=\u001b[39m \u001b[38;5;241m1\u001b[39m\n\u001b[1;32m      7\u001b[0m \u001b[38;5;28;01melse\u001b[39;00m: \n",
      "\u001b[0;31mIndexError\u001b[0m: list index out of range"
     ]
    }
   ],
   "source": [
    "count = 0\n",
    "for word in words[0][0:122339]:\n",
    "    regexp = r'\\d+'\n",
    "    match = re.findall(regexp, word)\n",
    "    if match[0][0] == match[0][-1]:\n",
    "        count += 1\n",
    "    else: \n",
    "        continue\n",
    "\n",
    "count"
   ]
  },
  {
   "cell_type": "markdown",
   "id": "6711d27c",
   "metadata": {},
   "source": [
    "- How many words start and end with a vowel?"
   ]
  },
  {
   "cell_type": "code",
   "execution_count": 76,
   "id": "bb12e0d9",
   "metadata": {},
   "outputs": [
    {
     "data": {
      "text/plain": [
       "41247"
      ]
     },
     "execution_count": 76,
     "metadata": {},
     "output_type": "execute_result"
    }
   ],
   "source": [
    "count = 0\n",
    "for word in words[0][0:122339]:\n",
    "    regexp = r'[aeiouAEIOU]+[aeiouAEIOU]'\n",
    "    match = re.findall(regexp, word)\n",
    "    if len(match) == 1:\n",
    "        count += 1\n",
    "    else: \n",
    "        continue\n",
    "\n",
    "count"
   ]
  },
  {
   "cell_type": "markdown",
   "id": "cc5424c4",
   "metadata": {},
   "source": [
    "- How many words contain the same letter 3 times in a row?"
   ]
  },
  {
   "cell_type": "code",
   "execution_count": null,
   "id": "0fd527e4",
   "metadata": {},
   "outputs": [],
   "source": []
  },
  {
   "cell_type": "markdown",
   "id": "0e120cdf",
   "metadata": {},
   "source": [
    "- What other interesting patterns in words can you find?"
   ]
  },
  {
   "cell_type": "code",
   "execution_count": null,
   "id": "7a4ae355",
   "metadata": {},
   "outputs": [],
   "source": []
  },
  {
   "cell_type": "code",
   "execution_count": null,
   "id": "4007b9cb",
   "metadata": {},
   "outputs": [],
   "source": []
  },
  {
   "cell_type": "code",
   "execution_count": null,
   "id": "ca6b142e",
   "metadata": {},
   "outputs": [],
   "source": []
  }
 ],
 "metadata": {
  "kernelspec": {
   "display_name": "Python 3 (ipykernel)",
   "language": "python",
   "name": "python3"
  },
  "language_info": {
   "codemirror_mode": {
    "name": "ipython",
    "version": 3
   },
   "file_extension": ".py",
   "mimetype": "text/x-python",
   "name": "python",
   "nbconvert_exporter": "python",
   "pygments_lexer": "ipython3",
   "version": "3.10.9"
  }
 },
 "nbformat": 4,
 "nbformat_minor": 5
}
