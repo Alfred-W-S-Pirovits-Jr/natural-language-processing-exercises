{
 "cells": [
  {
   "cell_type": "code",
   "execution_count": 5,
   "id": "f45c9656",
   "metadata": {},
   "outputs": [],
   "source": [
    "import re"
   ]
  },
  {
   "cell_type": "code",
   "execution_count": null,
   "id": "331b9b46",
   "metadata": {},
   "outputs": [],
   "source": []
  },
  {
   "cell_type": "code",
   "execution_count": null,
   "id": "a4d01314",
   "metadata": {},
   "outputs": [],
   "source": []
  },
  {
   "cell_type": "markdown",
   "id": "8e82d516",
   "metadata": {},
   "source": [
    "Write a function named is_vowel. It should accept a string as input and use a regular expression to determine if the passed string is a vowel. While not explicity mentioned in the lesson, you can treat the result of re.search as a boolean value that indicates whether or not the regular expression matches the given string."
   ]
  },
  {
   "cell_type": "code",
   "execution_count": 151,
   "id": "db481515",
   "metadata": {},
   "outputs": [
    {
     "data": {
      "text/plain": [
       "True"
      ]
     },
     "execution_count": 151,
     "metadata": {},
     "output_type": "execute_result"
    }
   ],
   "source": [
    "string = 'a'\n",
    "def is_vowel(string):\n",
    "    regexp = r'[aeiouAEIOU]'\n",
    "#     return re.search(regexp, string)\n",
    "    match = re.search(regexp, string)\n",
    "    #return match  #keep this line for understanding\n",
    "    return match != None and match[0] == string\n",
    "\n",
    "vowel = is_vowel(string)\n",
    "vowel"
   ]
  },
  {
   "cell_type": "code",
   "execution_count": null,
   "id": "22c11331",
   "metadata": {},
   "outputs": [],
   "source": []
  },
  {
   "cell_type": "markdown",
   "id": "fe648d32",
   "metadata": {},
   "source": [
    "Write a function named is_valid_username that accepts a string as input. A valid username starts with a lowercase letter, and only consists of lowercase letters, numbers, or the _ character. It should also be no longer than 32 characters. The function should return either True or False depending on whether the passed string is a valid username."
   ]
  },
  {
   "cell_type": "code",
   "execution_count": 224,
   "id": "6a1b95e4",
   "metadata": {},
   "outputs": [
    {
     "data": {
      "text/plain": [
       "True"
      ]
     },
     "execution_count": 224,
     "metadata": {},
     "output_type": "execute_result"
    }
   ],
   "source": [
    "username = 'i93_4kj498rfhdschjfknkdjhdskj485'\n",
    "def is_valid_username(username):\n",
    "    regexp  = r'^[a-z][_0123456789abcdefghijklmnopqrstuvwxyz]{1,31}'#r'^[a-z][_ | \\d | \\w]{1,31}'  #### HOW TO COMBINE r'([^A-Z]{1,32})' \n",
    "    match = re.search(regexp, username)\n",
    "    return match != None and match[0] == username\n",
    "\n",
    "username = is_valid_username(username)\n",
    "username"
   ]
  },
  {
   "cell_type": "markdown",
   "id": "1125a474",
   "metadata": {},
   "source": [
    "cannot figure out the [a-z] or [^A-Z] syntax"
   ]
  },
  {
   "cell_type": "code",
   "execution_count": null,
   "id": "39eaa0f2",
   "metadata": {},
   "outputs": [],
   "source": []
  },
  {
   "cell_type": "markdown",
   "id": "332e1b6f",
   "metadata": {},
   "source": [
    "Write a regular expression to capture phone numbers. It should match all of the following:"
   ]
  },
  {
   "cell_type": "markdown",
   "id": "d6153a04",
   "metadata": {},
   "source": [
    "* (210) 867 5309\n",
    "* +1 210.867.5309\n",
    "* 867-5309\n",
    "* 210-867-5309\n"
   ]
  },
  {
   "cell_type": "code",
   "execution_count": 241,
   "id": "f8a628b5",
   "metadata": {},
   "outputs": [
    {
     "data": {
      "text/plain": [
       "True"
      ]
     },
     "execution_count": 241,
     "metadata": {},
     "output_type": "execute_result"
    }
   ],
   "source": [
    "potential_number = '(210) 867 5309'\n",
    "def phone_number(potential_number):\n",
    "    regexp = r'\\(\\d{3}\\)\\s\\d{3}\\s\\d{4}'\n",
    "    match = re.search(regexp, potential_number)\n",
    "    return match != None and match[0] == potential_number\n",
    "phone = phone_number(potential_number)\n",
    "phone"
   ]
  },
  {
   "cell_type": "code",
   "execution_count": 245,
   "id": "190923a0",
   "metadata": {},
   "outputs": [
    {
     "data": {
      "text/plain": [
       "True"
      ]
     },
     "execution_count": 245,
     "metadata": {},
     "output_type": "execute_result"
    }
   ],
   "source": [
    "potential_number = '+1 210.867.5309'\n",
    "def phone_number(potential_number):\n",
    "    regexp = r'\\+1\\s\\d{3}\\.\\d{3}\\.\\d{4}'\n",
    "    match = re.search(regexp, potential_number)\n",
    "    return match != None and match[0] == potential_number\n",
    "phone = phone_number(potential_number)\n",
    "phone"
   ]
  },
  {
   "cell_type": "code",
   "execution_count": 247,
   "id": "0ce31408",
   "metadata": {},
   "outputs": [
    {
     "data": {
      "text/plain": [
       "True"
      ]
     },
     "execution_count": 247,
     "metadata": {},
     "output_type": "execute_result"
    }
   ],
   "source": [
    "potential_number = '867-5309'\n",
    "def phone_number(potential_number):\n",
    "    regexp = r'\\d{3}-\\d{4}'\n",
    "    match = re.search(regexp, potential_number)\n",
    "    return match != None and match[0] == potential_number\n",
    "phone = phone_number(potential_number)\n",
    "phone"
   ]
  },
  {
   "cell_type": "code",
   "execution_count": 250,
   "id": "d6083b61",
   "metadata": {},
   "outputs": [
    {
     "data": {
      "text/plain": [
       "True"
      ]
     },
     "execution_count": 250,
     "metadata": {},
     "output_type": "execute_result"
    }
   ],
   "source": [
    "potential_number = '210-867-5309'\n",
    "def phone_number(potential_number):\n",
    "    regexp = r'\\d{3}-\\d{3}-\\d{4}'\n",
    "    match = re.search(regexp, potential_number)\n",
    "    return match != None and match[0] == potential_number\n",
    "phone = phone_number(potential_number)\n",
    "phone"
   ]
  },
  {
   "cell_type": "markdown",
   "id": "c4ef80bc",
   "metadata": {},
   "source": [
    "## Combine"
   ]
  },
  {
   "cell_type": "code",
   "execution_count": 288,
   "id": "6f5cb205",
   "metadata": {},
   "outputs": [
    {
     "data": {
      "text/plain": [
       "['210-867-5309']"
      ]
     },
     "execution_count": 288,
     "metadata": {},
     "output_type": "execute_result"
    }
   ],
   "source": [
    "string = '210-867-5309867-5309+1 210.867.5309+1 210.867.5309'\n",
    "\n",
    "def capture_list(string):\n",
    "    for _ in string:\n",
    "        capture_list = []\n",
    "        regexp = r'(\\(\\d{3}\\)\\s\\d{3}\\s\\d{4})|(\\+1\\s\\d{3}\\.\\d{3}\\.\\d{4})|(\\d{3}-\\d{4})|(\\d{3}-\\d{3}-\\d{4})'\n",
    "        match = re.search(regexp, string)\n",
    "        capture_list.append(match[0])\n",
    "        continue\n",
    "    return capture_list\n",
    "\n",
    "list = capture_list(string)\n",
    "list"
   ]
  },
  {
   "cell_type": "markdown",
   "id": "cf230b85",
   "metadata": {},
   "source": [
    "##### >>> is_valid_username('aaaaaaaaaaaaaaaaaaaaaaaaaaaaaaaaa')\n",
    "##### False\n",
    "##### >>> is_valid_username('codeup')\n",
    "##### True\n",
    "##### >>> is_valid_username('Codeup')\n",
    "##### False\n",
    "##### >>> is_valid_username('codeup123')\n",
    "##### True\n",
    "##### >>> is_valid_username('1codeup')\n",
    "##### False\n"
   ]
  },
  {
   "cell_type": "markdown",
   "id": "02d2253d",
   "metadata": {},
   "source": [
    "Use regular expressions to convert the dates below to the standardized year-month-day format."
   ]
  },
  {
   "cell_type": "markdown",
   "id": "b0acc7b4",
   "metadata": {},
   "source": [
    "* 02/04/19\n",
    "* 02/05/19\n",
    "* 02/06/19\n",
    "* 02/07/19\n",
    "* 02/08/19\n",
    "* 02/09/19\n",
    "* 02/10/19\n"
   ]
  },
  {
   "cell_type": "code",
   "execution_count": null,
   "id": "e015f488",
   "metadata": {},
   "outputs": [],
   "source": []
  },
  {
   "cell_type": "markdown",
   "id": "2d4002d9",
   "metadata": {},
   "source": [
    "Write a regex to extract the various parts of these logfile lines:"
   ]
  },
  {
   "cell_type": "markdown",
   "id": "bb0ed21f",
   "metadata": {},
   "source": [
    "* GET /api/v1/sales?page=86 [16/Apr/2019:193452+0000] HTTP/1.1 {200} 510348 \"python-requests/2.21.0\" 97.105.19.58\n",
    "* POST /users_accounts/file-upload [16/Apr/2019:193452+0000] HTTP/1.1 {201} 42 \"User-Agent: Mozilla/5.0 (X11; Fedora; Fedora; Linux x86_64) AppleWebKit/537.36 (KHTML, like Gecko) Chrome/73.0.3683.86 Safari/537.36\" 97.105.19.58\n",
    "* GET /api/v1/items?page=3 [16/Apr/2019:193453+0000] HTTP/1.1 {429} 3561 \"python-requests/2.21.0\" 97.105.19.58\n"
   ]
  },
  {
   "cell_type": "code",
   "execution_count": null,
   "id": "923f20bf",
   "metadata": {},
   "outputs": [],
   "source": []
  },
  {
   "cell_type": "markdown",
   "id": "4fd81b48",
   "metadata": {},
   "source": [
    "## Bonus Exercise"
   ]
  },
  {
   "cell_type": "markdown",
   "id": "61a9cc93",
   "metadata": {},
   "source": [
    "You can find a list of words on your mac at /usr/share/dict/words. Use this file to answer the following questions:"
   ]
  },
  {
   "cell_type": "markdown",
   "id": "f20aba36",
   "metadata": {},
   "source": [
    "- How many words have at least 3 vowels?"
   ]
  },
  {
   "cell_type": "code",
   "execution_count": null,
   "id": "53007bb7",
   "metadata": {},
   "outputs": [],
   "source": []
  },
  {
   "cell_type": "markdown",
   "id": "39dbcef2",
   "metadata": {},
   "source": [
    "- How many words have at least 3 vowels in a row?"
   ]
  },
  {
   "cell_type": "code",
   "execution_count": null,
   "id": "3a91b0ae",
   "metadata": {},
   "outputs": [],
   "source": []
  },
  {
   "cell_type": "markdown",
   "id": "8438c844",
   "metadata": {},
   "source": [
    "- How many words have at least 4 consonants in a row?"
   ]
  },
  {
   "cell_type": "code",
   "execution_count": null,
   "id": "a8367e5a",
   "metadata": {},
   "outputs": [],
   "source": []
  },
  {
   "cell_type": "markdown",
   "id": "6029faab",
   "metadata": {},
   "source": [
    "- How many words start and end with the same letter?"
   ]
  },
  {
   "cell_type": "code",
   "execution_count": null,
   "id": "08b22860",
   "metadata": {},
   "outputs": [],
   "source": []
  },
  {
   "cell_type": "markdown",
   "id": "4183853e",
   "metadata": {},
   "source": [
    "- How many words start and end with a vowel?"
   ]
  },
  {
   "cell_type": "code",
   "execution_count": null,
   "id": "055be299",
   "metadata": {},
   "outputs": [],
   "source": []
  },
  {
   "cell_type": "markdown",
   "id": "da8b1668",
   "metadata": {},
   "source": [
    "- How many words contain the same letter 3 times in a row?"
   ]
  },
  {
   "cell_type": "code",
   "execution_count": null,
   "id": "e51b9975",
   "metadata": {},
   "outputs": [],
   "source": []
  },
  {
   "cell_type": "markdown",
   "id": "4380379a",
   "metadata": {},
   "source": [
    "- What other interesting patterns in words can you find?"
   ]
  },
  {
   "cell_type": "code",
   "execution_count": null,
   "id": "e28c80c0",
   "metadata": {},
   "outputs": [],
   "source": []
  },
  {
   "cell_type": "code",
   "execution_count": null,
   "id": "d03b4b6c",
   "metadata": {},
   "outputs": [],
   "source": []
  },
  {
   "cell_type": "code",
   "execution_count": null,
   "id": "8119cde8",
   "metadata": {},
   "outputs": [],
   "source": []
  }
 ],
 "metadata": {
  "kernelspec": {
   "display_name": "Python 3 (ipykernel)",
   "language": "python",
   "name": "python3"
  },
  "language_info": {
   "codemirror_mode": {
    "name": "ipython",
    "version": 3
   },
   "file_extension": ".py",
   "mimetype": "text/x-python",
   "name": "python",
   "nbconvert_exporter": "python",
   "pygments_lexer": "ipython3",
   "version": "3.10.9"
  }
 },
 "nbformat": 4,
 "nbformat_minor": 5
}
